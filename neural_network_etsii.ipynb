{
  "nbformat": 4,
  "nbformat_minor": 0,
  "metadata": {
    "colab": {
      "name": "ETSII-predictor.ipynb",
      "provenance": [],
      "collapsed_sections": []
    },
    "kernelspec": {
      "name": "python3",
      "display_name": "Python 3"
    }
  },
  "cells": [
    {
      "cell_type": "markdown",
      "metadata": {
        "id": "Nq448CZ5PlFa"
      },
      "source": [
        "**Importamos liberías**"
      ]
    },
    {
      "cell_type": "code",
      "metadata": {
        "id": "axY_EFiIOkKB"
      },
      "source": [
        "import pandas as pd\n",
        "from google.colab import files\n",
        "import tensorflow as tf\n",
        "from tensorflow import keras\n",
        "import numpy as np\n",
        "import matplotlib.pyplot as plt\n",
        "import seaborn as sns\n",
        "import io"
      ],
      "execution_count": null,
      "outputs": []
    },
    {
      "cell_type": "markdown",
      "metadata": {
        "id": "dJFUDnQ7PxxH"
      },
      "source": [
        "**Leemos el archivo de datos**"
      ]
    },
    {
      "cell_type": "code",
      "metadata": {
        "id": "wqPIqCcAP052"
      },
      "source": [
        "uploaded = files.upload()"
      ],
      "execution_count": null,
      "outputs": []
    },
    {
      "cell_type": "markdown",
      "metadata": {
        "id": "kzvWLtzLP6f6"
      },
      "source": [
        "**Guardamos en una variable la tabla leída**"
      ]
    },
    {
      "cell_type": "code",
      "metadata": {
        "id": "X9C6n7bvPewm"
      },
      "source": [
        "df2 = pd.read_csv(io.BytesIO(uploaded['ETSII-Data-01_organized.csv']), sep=';')\n",
        "dataset = df2.copy()\n",
        "dataset.tail()"
      ],
      "execution_count": null,
      "outputs": []
    },
    {
      "cell_type": "markdown",
      "metadata": {
        "id": "dnniGu_wQO8d"
      },
      "source": [
        "**Ploteamos los datos de energía**"
      ]
    },
    {
      "cell_type": "code",
      "metadata": {
        "id": "SRxxViJWPz31"
      },
      "source": [
        "sns.lineplot(x=dataset.index, y=\"Energia\", data=dataset);"
      ],
      "execution_count": null,
      "outputs": []
    },
    {
      "cell_type": "markdown",
      "metadata": {
        "id": "MY9iRUVzQXdq"
      },
      "source": [
        "**Separamos el dataset de entrenamiento y de validación**"
      ]
    },
    {
      "cell_type": "code",
      "metadata": {
        "id": "-AQ7dfcRQGtx"
      },
      "source": [
        "\n",
        "train_dataset = dataset.sample(frac=0.8,random_state=0)\n",
        "test_dataset = dataset.drop(train_dataset.index)\n",
        "\n",
        "train_labels = train_dataset.pop('Energia')\n",
        "test_labels = test_dataset.pop('Energia')\n",
        "\n",
        "train_labels = train_labels.astype(dtype=float)\n",
        "test_labels = test_labels.astype(dtype=float)"
      ],
      "execution_count": null,
      "outputs": []
    },
    {
      "cell_type": "markdown",
      "metadata": {
        "id": "VXXMUlAgQlMc"
      },
      "source": [
        "**Calculamos algunas estadísticas**"
      ]
    },
    {
      "cell_type": "code",
      "metadata": {
        "id": "PLBwW6pXQofi"
      },
      "source": [
        "train_labels_stats = train_labels.describe()\n",
        "\n",
        "train_stats = train_dataset.describe()\n",
        "train_stats = train_stats.transpose()\n",
        "\n",
        "print(train_stats)"
      ],
      "execution_count": null,
      "outputs": []
    },
    {
      "cell_type": "markdown",
      "metadata": {
        "id": "E1U_WDd2RQjU"
      },
      "source": [
        "**Normalizamos tanto entradas como salidas**"
      ]
    },
    {
      "cell_type": "code",
      "metadata": {
        "id": "2oRRfU4tQvLb"
      },
      "source": [
        "def norm(x):\n",
        "  return (x - train_stats['mean']) / train_stats['std']\n",
        "normed_train_data = norm(train_dataset)\n",
        "normed_test_data = norm(test_dataset)\n",
        "\n",
        "def norm_(x):\n",
        "  return (x - train_labels_stats['mean']) / train_labels_stats['std']\n",
        "normed_train_data_labels = norm_(train_labels)\n",
        "normed_test_data_labels = norm_(test_labels)"
      ],
      "execution_count": 48,
      "outputs": []
    },
    {
      "cell_type": "markdown",
      "metadata": {
        "id": "Mb2ch01DSE2j"
      },
      "source": [
        "**Definimos el modelo de la red a entrenar**"
      ]
    },
    {
      "cell_type": "code",
      "metadata": {
        "id": "dTcv_HM_Q6Ng"
      },
      "source": [
        "def build_model():\n",
        "  model = keras.Sequential([\n",
        "    tf.keras.layers.Dense(64, activation='relu', input_shape=[len(train_dataset.keys())]),\n",
        "    tf.keras.layers.Dense(64, activation='relu'),\n",
        "    tf.keras.layers.Dense(1)\n",
        "  ])\n",
        "\n",
        "  optimizer = tf.keras.optimizers.RMSprop(0.005)\n",
        "\n",
        "  model.compile(loss='mse',\n",
        "                optimizer=optimizer,\n",
        "                metrics=['mae', 'mse'])\n",
        "  return model"
      ],
      "execution_count": 76,
      "outputs": []
    },
    {
      "cell_type": "markdown",
      "metadata": {
        "id": "SnOb9FtpSKdX"
      },
      "source": [
        "**Instanciamos y mostramos resumen**"
      ]
    },
    {
      "cell_type": "code",
      "metadata": {
        "id": "JIguPmksQ8jh"
      },
      "source": [
        "model = build_model()\n",
        "model.summary()"
      ],
      "execution_count": null,
      "outputs": []
    },
    {
      "cell_type": "markdown",
      "metadata": {
        "id": "ahMn7cWNSQoK"
      },
      "source": [
        "**Entrenamos a la red**"
      ]
    },
    {
      "cell_type": "code",
      "metadata": {
        "id": "UrYa0opjRHAm"
      },
      "source": [
        "EPOCHS = 1000\n",
        "\n",
        "history = model.fit(\n",
        "  normed_train_data, normed_train_data_labels,\n",
        "  epochs=EPOCHS, validation_split = 0.2)"
      ],
      "execution_count": null,
      "outputs": []
    },
    {
      "cell_type": "markdown",
      "metadata": {
        "id": "uOfMLzngSVHB"
      },
      "source": [
        "**Guardamos la información del entrenamiento**"
      ]
    },
    {
      "cell_type": "code",
      "metadata": {
        "id": "zw1tWf-VRulR"
      },
      "source": [
        "hist = pd.DataFrame(history.history)\n",
        "hist['epoch'] = history.epoch\n",
        "hist.tail()"
      ],
      "execution_count": null,
      "outputs": []
    },
    {
      "cell_type": "markdown",
      "metadata": {
        "id": "U6vPnpxKSako"
      },
      "source": [
        "**Ploteamos la información del entrenamiento**"
      ]
    },
    {
      "cell_type": "code",
      "metadata": {
        "id": "Qbl7qA9dRwd2"
      },
      "source": [
        "def plot_history(history):\n",
        "  hist = pd.DataFrame(history.history)\n",
        "  hist['epoch'] = history.epoch\n",
        "\n",
        "  plt.figure()\n",
        "  plt.xlabel('Epoch')\n",
        "  plt.ylabel('Mean Abs Error [Energia]')\n",
        "  plt.plot(hist['epoch'], hist['mae'],\n",
        "           label='Train Error')\n",
        "  plt.plot(hist['epoch'], hist['val_mae'],\n",
        "           label = 'Val Error')\n",
        "  plt.ylim([0,1])\n",
        "  plt.legend()\n",
        "\n",
        "  plt.figure()\n",
        "  plt.xlabel('Epoch')\n",
        "  plt.ylabel('Mean Square Error [$Energia^2$]')\n",
        "  plt.plot(hist['epoch'], hist['mse'],\n",
        "           label='Train Error')\n",
        "  plt.plot(hist['epoch'], hist['val_mse'],\n",
        "           label = 'Val Error')\n",
        "  plt.ylim([0,2])\n",
        "  plt.legend()\n",
        "  plt.show()\n",
        "\n",
        "\n",
        "plot_history(history)"
      ],
      "execution_count": null,
      "outputs": []
    },
    {
      "cell_type": "markdown",
      "metadata": {
        "id": "19K1_aHqShni"
      },
      "source": [
        "**Evaluamos el test set**"
      ]
    },
    {
      "cell_type": "code",
      "metadata": {
        "id": "kt5MPhD6SHvZ"
      },
      "source": [
        "loss, mae, mse = model.evaluate(normed_test_data, normed_test_data_labels, verbose=2)\n",
        "\n",
        "print(\"Testing set Mean Abs Error: {:5.2f} Energy\".format(mae))"
      ],
      "execution_count": null,
      "outputs": []
    },
    {
      "cell_type": "markdown",
      "metadata": {
        "id": "zHaKw9erSn2u"
      },
      "source": [
        "**Ploteamos los resultados del test set**"
      ]
    },
    {
      "cell_type": "code",
      "metadata": {
        "id": "4eqJnQXsSK-V"
      },
      "source": [
        "test_predictions = model.predict(normed_test_data).flatten()\n",
        "\n",
        "plt.scatter(normed_test_data_labels, test_predictions)\n",
        "plt.xlabel('True Values [Energía]')\n",
        "plt.ylabel('Predictions [Energía]')\n",
        "plt.axis('equal')\n",
        "plt.axis('square')\n",
        "plt.xlim([0,plt.xlim()[1]])\n",
        "plt.ylim([0,plt.ylim()[1]])\n",
        "_ = plt.plot([-150, 150], [-150, 150])"
      ],
      "execution_count": null,
      "outputs": []
    },
    {
      "cell_type": "markdown",
      "metadata": {
        "id": "z6-oMd3JSttq"
      },
      "source": [
        "**Ploteamos distribución del error en forma de histograma**"
      ]
    },
    {
      "cell_type": "code",
      "metadata": {
        "id": "otaIHT9ySV62"
      },
      "source": [
        "error = test_predictions - normed_test_data_labels\n",
        "plt.hist(error, bins = 10)\n",
        "plt.xlabel(\"Prediction Error [Energía]\")\n",
        "_ = plt.ylabel(\"Count\")"
      ],
      "execution_count": null,
      "outputs": []
    }
  ]
}